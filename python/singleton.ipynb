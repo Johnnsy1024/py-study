{
 "cells": [
  {
   "cell_type": "markdown",
   "metadata": {},
   "source": [
    "1. 函数装饰器实现单例"
   ]
  },
  {
   "cell_type": "code",
   "execution_count": 1,
   "metadata": {},
   "outputs": [
    {
     "data": {
      "text/plain": [
       "True"
      ]
     },
     "execution_count": 1,
     "metadata": {},
     "output_type": "execute_result"
    }
   ],
   "source": [
    "'''\n",
    "Author: FaizalFeng fzx401@gmail.com\n",
    "Date: 2024-02-04 20:01:23\n",
    "LastEditors: FaizalFeng fzx401@gmail.com\n",
    "LastEditTime: 2024-03-13 17:46:06\n",
    "Copyright (c) 2024 by FaizalFeng, All Rights Reserved.\n",
    "'''\n",
    "# 函数装饰器实现单例\n",
    "def singleton(cls):\n",
    "    # 以类为传入参数,并用字典存储类的实例\n",
    "    _instance = {}\n",
    "\n",
    "    def inner():\n",
    "        # 如果没有创建过当前传入类的实例，则对该类进行实例化\n",
    "        if cls not in _instance:\n",
    "            _instance[cls] = cls()\n",
    "        return _instance[cls]\n",
    "\n",
    "    return inner\n",
    "\n",
    "@singleton\n",
    "class Singleton:\n",
    "    def __init__(self) -> None:\n",
    "        pass\n",
    "\n",
    "s1 = Singleton()\n",
    "s2 = Singleton()\n",
    "id(s1) == id(s2)"
   ]
  },
  {
   "cell_type": "markdown",
   "metadata": {},
   "source": [
    "2. 类装饰器实现实例"
   ]
  },
  {
   "cell_type": "code",
   "execution_count": 4,
   "metadata": {},
   "outputs": [
    {
     "data": {
      "text/plain": [
       "True"
      ]
     },
     "execution_count": 4,
     "metadata": {},
     "output_type": "execute_result"
    }
   ],
   "source": [
    "# 类装饰器实现实例\n",
    "from typing import Any\n",
    "\n",
    "\n",
    "class Singleton:\n",
    "    def __init__(self, cls) -> None:\n",
    "        self._cls = cls\n",
    "        self._instance = {}\n",
    "    def __call__(self) -> Any:\n",
    "        if self._cls not in self._instance:\n",
    "            self._instance[self._cls] = self._cls()\n",
    "        return self._instance[self._cls]\n",
    "@Singleton\n",
    "class Singleton2:\n",
    "    def __init__(self) -> None:\n",
    "        pass\n",
    "\n",
    "cls1 = Singleton2()\n",
    "cls2 = Singleton2()\n",
    "id(cls1) == id(cls2)"
   ]
  },
  {
   "cell_type": "markdown",
   "metadata": {},
   "source": [
    "3. __new__()方法实现单例"
   ]
  },
  {
   "cell_type": "code",
   "execution_count": 2,
   "metadata": {},
   "outputs": [
    {
     "data": {
      "text/plain": [
       "True"
      ]
     },
     "execution_count": 2,
     "metadata": {},
     "output_type": "execute_result"
    }
   ],
   "source": [
    "# __new__()方法实现单例\n",
    "# ! 但是注意,__new__()方法依然会在每次初始化后执行__init__(),严格意义上不是标准的单例实现\n",
    "\n",
    "class Singleton:\n",
    "    _instance = None\n",
    "    def __new__(cls):\n",
    "        if not cls._instance:\n",
    "            cls._instance = super().__init__(cls)\n",
    "        return cls._instance\n",
    "    def __init__(self) -> None:\n",
    "        pass\n",
    "    \n",
    "s1 = Singleton()\n",
    "s2 = Singleton()\n",
    "id(s1) == id(s2)\n"
   ]
  },
  {
   "cell_type": "markdown",
   "metadata": {},
   "source": [
    "4. 使用metaclass实现单例"
   ]
  },
  {
   "cell_type": "code",
   "execution_count": 1,
   "metadata": {},
   "outputs": [
    {
     "name": "stdout",
     "output_type": "stream",
     "text": [
      "<class '__main__.Singleton3'>\n"
     ]
    }
   ],
   "source": [
    "# 使用metaclass实现单例\n",
    "class SingletonMeta(type):\n",
    "    _instance = {}\n",
    "    # 注意，单例是针对实例化而言，因此在元类中要对__call__进行重载\n",
    "    # 元类的__new__方法是在定义类的时候就执行\n",
    "    # def __new__(cls, *args, **kwargs):\n",
    "    #     print(\"类在这里定义完成\")\n",
    "    #     if cls not in cls._instance:\n",
    "    #         cls._instance[cls] = super().__new__(cls, *args, **kwargs)\n",
    "    #     return cls._instance[cls]\n",
    "    #     # return super().__new__(cls, *args, **kwargs)\n",
    "    def __call__(cls):\n",
    "        if cls not in cls._instance:\n",
    "            cls._instance[cls] = super().__call__()\n",
    "        return cls._instance[cls]\n",
    "\n",
    "class Singleton3(metaclass=SingletonMeta):\n",
    "    pass\n",
    "\n",
    "# sg = Singleton3()\n",
    "# sg2 = Singleton3()\n",
    "# id(sg) == id(sg2)"
   ]
  },
  {
   "cell_type": "markdown",
   "metadata": {},
   "source": [
    "5. 模块实现单例(\\*最推荐)"
   ]
  },
  {
   "cell_type": "code",
   "execution_count": 17,
   "metadata": {},
   "outputs": [
    {
     "data": {
      "text/plain": [
       "4361334176"
      ]
     },
     "execution_count": 17,
     "metadata": {},
     "output_type": "execute_result"
    }
   ],
   "source": [
    "from module_singleton.singleton import singleton\n",
    "\n",
    "\n",
    "id(singleton)\n"
   ]
  }
 ],
 "metadata": {
  "kernelspec": {
   "display_name": "base",
   "language": "python",
   "name": "python3"
  },
  "language_info": {
   "codemirror_mode": {
    "name": "ipython",
    "version": 3
   },
   "file_extension": ".py",
   "mimetype": "text/x-python",
   "name": "python",
   "nbconvert_exporter": "python",
   "pygments_lexer": "ipython3",
   "version": "3.10.13"
  }
 },
 "nbformat": 4,
 "nbformat_minor": 2
}
