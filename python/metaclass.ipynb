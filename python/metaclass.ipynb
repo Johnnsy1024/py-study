{
 "cells": [
  {
   "cell_type": "markdown",
   "metadata": {},
   "source": [
    "# type"
   ]
  },
  {
   "cell_type": "code",
   "execution_count": 1,
   "metadata": {},
   "outputs": [],
   "source": [
    "num = 10"
   ]
  },
  {
   "cell_type": "code",
   "execution_count": 2,
   "metadata": {},
   "outputs": [
    {
     "data": {
      "text/plain": [
       "int"
      ]
     },
     "execution_count": 2,
     "metadata": {},
     "output_type": "execute_result"
    }
   ],
   "source": [
    "num.__class__"
   ]
  },
  {
   "cell_type": "code",
   "execution_count": 3,
   "metadata": {},
   "outputs": [
    {
     "data": {
      "text/plain": [
       "type"
      ]
     },
     "execution_count": 3,
     "metadata": {},
     "output_type": "execute_result"
    }
   ],
   "source": [
    "num.__class__.__class__"
   ]
  },
  {
   "cell_type": "code",
   "execution_count": 13,
   "metadata": {},
   "outputs": [
    {
     "data": {
      "text/plain": [
       "__main__.MyClass"
      ]
     },
     "execution_count": 13,
     "metadata": {},
     "output_type": "execute_result"
    }
   ],
   "source": [
    "type(\"MyClass\", (), {})"
   ]
  },
  {
   "cell_type": "markdown",
   "metadata": {},
   "source": [
    "# Metaclass"
   ]
  },
  {
   "cell_type": "code",
   "execution_count": 14,
   "metadata": {},
   "outputs": [],
   "source": [
    "class BaseModel(type):\n",
    "    def __new__(cls, name: str, bases: tuple, attr: dict):\n",
    "        attr['info'] = 'This is a metaclass'\n",
    "        return super().__new__(BaseModel, name, bases, attr)\n",
    "\n",
    "class Test(metaclass=BaseModel):\n",
    "    def __init__(self) -> None:\n",
    "        pass\n",
    "\n",
    "test = Test()"
   ]
  },
  {
   "cell_type": "code",
   "execution_count": 15,
   "metadata": {},
   "outputs": [
    {
     "data": {
      "text/plain": [
       "'This is a metaclass'"
      ]
     },
     "execution_count": 15,
     "metadata": {},
     "output_type": "execute_result"
    }
   ],
   "source": [
    "test.info # 此时虽然没有对类Test进行初始化赋值，但是已经有了info这个属性"
   ]
  },
  {
   "cell_type": "code",
   "execution_count": 12,
   "metadata": {},
   "outputs": [
    {
     "name": "stdout",
     "output_type": "stream",
     "text": [
      "我被实例化啦\n"
     ]
    }
   ],
   "source": [
    "from typing import Any\n",
    "\n",
    "\n",
    "class ListMeta(type):\n",
    "    def __new__(cls, name: str, bases: tuple, attr: dict):\n",
    "        attr['add'] = lambda self, value: self.append(value)\n",
    "        return super().__new__(cls, name, bases, attr) # 这里调用的实际上是type()\n",
    "    def __call__(cls) -> Any:\n",
    "        print('我被实例化啦')\n",
    "        return super().__call__()\n",
    "\n",
    "class MyList(list, metaclass=ListMeta):\n",
    "    def __init__(self):\n",
    "        pass\n",
    "\n",
    "l = MyList()\n",
    "l.add(1)\n",
    "l.add(2)\n"
   ]
  },
  {
   "cell_type": "code",
   "execution_count": 5,
   "metadata": {},
   "outputs": [
    {
     "name": "stdout",
     "output_type": "stream",
     "text": [
      "{'first': 1}\n",
      "{'first': 3}\n"
     ]
    }
   ],
   "source": [
    "from typing import Self\n",
    "\n",
    "def custom_change(self, val: int):\n",
    "    self[list(self.keys())[0]] = val\n",
    "    return self[list(self.keys())[0]]\n",
    "\n",
    "class DictMeta(type):\n",
    "    def __new__(cls, name: str, base: tuple, attr: dict) -> Self:\n",
    "        attr['change'] = custom_change\n",
    "        return super().__new__(cls, name, base, attr)\n",
    "\n",
    "class MyDict(dict, metaclass=DictMeta):\n",
    "    pass\n",
    "    # MyDict的相关属性在代码执行到MyDict定义的时候就传入元类DictMeta中，而不是在实例化Mydict时\n",
    "    # name: MyDict\n",
    "    # base: dict\n",
    "    # attr: MyDict现有的自带属性\n",
    "    # def __init__(self)->None:\n",
    "    #     print('自定义字典类已初始化完毕')\n",
    "\n",
    "my_dict = MyDict()\n",
    "my_dict['first'] = 1\n",
    "print(my_dict)\n",
    "my_dict.change(3)\n",
    "print(my_dict)"
   ]
  },
  {
   "cell_type": "code",
   "execution_count": 23,
   "metadata": {},
   "outputs": [
    {
     "data": {
      "text/plain": [
       "<__main__.User at 0x106f45bd0>"
      ]
     },
     "execution_count": 23,
     "metadata": {},
     "output_type": "execute_result"
    }
   ],
   "source": [
    "# 实现ORM（对象关系映射）\n",
    "class ModelMetaclass(type):\n",
    "    def __new__(cls, name, bases, attrs):\n",
    "        if name == 'BaseModel': # 抽象的基础类不需要映射\n",
    "            return type.__new__(cls, name, bases, attrs)\n",
    "        # 注意，这里简单起见，假设所有字段均为字符串，实际需根据字段类型进行定义。\n",
    "        # attrs.items() 包括所有类属性，我们只关心字段\n",
    "        fields = {k: v for k, v in attrs.items() if not k.startswith('__') and not callable(v)}\n",
    "        for k in fields:\n",
    "            attrs.pop(k) # 移除类属性，因为已经映射到 fields 字典中\n",
    "        attrs['__fields__'] = fields # 把所有字段保存在 __fields__ 属性中\n",
    "        return type.__new__(cls, name, bases, attrs)\n",
    "\n",
    "class BaseModel(metaclass=ModelMetaclass): # 基础类，所有 ORM 映射类应继承此类\n",
    "    def __init__(self, **kwargs): # 利用 **kwargs 来初始化对象\n",
    "        for name, value in kwargs.items():\n",
    "            setattr(self, name, value)\n",
    "\n",
    "class User(BaseModel): # 创建映射类\n",
    "    name = 'unknown' # 字段默认值\n",
    "    email = 'unknown'\n",
    "\n",
    "\n",
    "user_tb = User(name='Jack', email='jack123@gmail.com', tele=13516269283)\n",
    "user_tb"
   ]
  }
 ],
 "metadata": {
  "kernelspec": {
   "display_name": "base",
   "language": "python",
   "name": "python3"
  },
  "language_info": {
   "codemirror_mode": {
    "name": "ipython",
    "version": 3
   },
   "file_extension": ".py",
   "mimetype": "text/x-python",
   "name": "python",
   "nbconvert_exporter": "python",
   "pygments_lexer": "ipython3",
   "version": "3.11.6"
  }
 },
 "nbformat": 4,
 "nbformat_minor": 2
}
