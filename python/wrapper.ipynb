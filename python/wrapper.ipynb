{
 "cells": [
  {
   "cell_type": "markdown",
   "metadata": {},
   "source": [
    "## 类装饰器（统一无参装饰器和有参装饰器）"
   ]
  },
  {
   "cell_type": "code",
   "execution_count": 1,
   "metadata": {},
   "outputs": [
    {
     "name": "stdout",
     "output_type": "stream",
     "text": [
      "hello,world\n",
      "3\n",
      "2\n"
     ]
    }
   ],
   "source": [
    "'''\n",
    "Author: FaizalFeng fzx401@gmail.com\n",
    "Date: 2024-03-13 14:23:22\n",
    "LastEditors: FaizalFeng fzx401@gmail.com\n",
    "LastEditTime: 2024-03-13 18:01:46\n",
    "Copyright (c) 2024 by FaizalFeng, All Rights Reserved.\n",
    "'''\n",
    "class DecoratorWithArguments:\n",
    "    def __init__(self, *args: list[str]):\n",
    "        # 将参数保存为类的属性\n",
    "        self.args = args\n",
    "\n",
    "    def __call__(self, f):\n",
    "        # 在__call__方法中，定义一个新函数作为包装器\n",
    "\n",
    "        def wrapped(*args, **kwargs):\n",
    "            if self.args:\n",
    "                res = []\n",
    "                for a in self.args:\n",
    "                    res.append(a)\n",
    "                print(','.join(res))\n",
    "            return f(*args, **kwargs)\n",
    "        return wrapped\n",
    "\n",
    "@DecoratorWithArguments('hello', 'world')\n",
    "def test_func(x: int, y: int):\n",
    "    return x + y\n",
    "\n",
    "def test_func2(x: int, y: int):\n",
    "    return x + y\n",
    "\n",
    "@DecoratorWithArguments()\n",
    "def test_func3(x: int, y: int):\n",
    "    return max(x, y)\n",
    "\n",
    "print(test_func(1, 2))\n",
    "print(test_func3(1, 2))"
   ]
  },
  {
   "cell_type": "code",
   "execution_count": 7,
   "metadata": {},
   "outputs": [
    {
     "name": "stdout",
     "output_type": "stream",
     "text": [
      "hello,world\n"
     ]
    },
    {
     "data": {
      "text/plain": [
       "7"
      ]
     },
     "execution_count": 7,
     "metadata": {},
     "output_type": "execute_result"
    }
   ],
   "source": [
    "DecoratorWithArguments(\"hello\", \"world\")(test_func2)(3, 4)"
   ]
  },
  {
   "cell_type": "markdown",
   "metadata": {},
   "source": [
    "## 函数装饰器"
   ]
  },
  {
   "cell_type": "markdown",
   "metadata": {},
   "source": [
    "### 带参数的函数装饰器"
   ]
  },
  {
   "cell_type": "code",
   "execution_count": 10,
   "metadata": {},
   "outputs": [
    {
     "name": "stdout",
     "output_type": "stream",
     "text": [
      "Current attr is FaizalFeng\n",
      "Success\n"
     ]
    }
   ],
   "source": [
    "from typing import Callable\n",
    "\n",
    "def outer(attr: str):\n",
    "    def deco(fun: Callable):\n",
    "        def wrap_func(*args, **kwargs):\n",
    "            print(f\"Current attr is {attr}\")\n",
    "            return fun(*args, **kwargs)\n",
    "        return wrap_func\n",
    "    return deco\n",
    "\n",
    "@outer('FaizalFeng')\n",
    "def test():\n",
    "    print('Success')\n",
    "\n",
    "test()"
   ]
  },
  {
   "cell_type": "markdown",
   "metadata": {},
   "source": [
    "### 不带参数的函数装饰器"
   ]
  },
  {
   "cell_type": "code",
   "execution_count": 11,
   "metadata": {},
   "outputs": [
    {
     "name": "stdout",
     "output_type": "stream",
     "text": [
      "Success\n"
     ]
    }
   ],
   "source": [
    "def deco(fun: Callable):\n",
    "    def wrap_func(*args, **kwargs):\n",
    "        return fun(*args, **kwargs)\n",
    "    return wrap_func\n",
    "\n",
    "@deco\n",
    "def test():\n",
    "    print('Success')\n",
    "\n",
    "test()"
   ]
  },
  {
   "cell_type": "markdown",
   "metadata": {},
   "source": [
    "## 防止被装饰函数信息改变"
   ]
  },
  {
   "cell_type": "code",
   "execution_count": 12,
   "metadata": {},
   "outputs": [
    {
     "name": "stdout",
     "output_type": "stream",
     "text": [
      "wrap_func\n"
     ]
    }
   ],
   "source": [
    "from functools import wraps\n",
    "from typing import Callable\n",
    "\n",
    "def outer(attr: str):\n",
    "    def deco(fun: Callable):\n",
    "        def wrap_func(*args, **kwargs):\n",
    "            print(f\"Current attr is {attr}\")\n",
    "            return fun(*args, **kwargs)\n",
    "        return wrap_func\n",
    "    return deco\n",
    "\n",
    "@outer('FaizalFeng')\n",
    "def test():\n",
    "    print('Hello world')\n",
    "\n",
    "print(test.__name__)"
   ]
  },
  {
   "cell_type": "markdown",
   "metadata": {},
   "source": [
    "可以看到此时test函数的__name__属性已经不再是其自己"
   ]
  },
  {
   "cell_type": "code",
   "execution_count": 13,
   "metadata": {},
   "outputs": [
    {
     "name": "stdout",
     "output_type": "stream",
     "text": [
      "test\n"
     ]
    }
   ],
   "source": [
    "def outer(attr: str):\n",
    "    def deco(fun: Callable):\n",
    "        @wraps(fun)\n",
    "        def wrap_func(*args, **kwargs):\n",
    "            print(f\"Current attr is {attr}\")\n",
    "            return fun(*args, **kwargs)\n",
    "        return wrap_func\n",
    "    return deco\n",
    "\n",
    "@outer('FaizalFeng')\n",
    "def test():\n",
    "    print('Hello world')\n",
    "\n",
    "print(test.__name__)"
   ]
  }
 ],
 "metadata": {
  "kernelspec": {
   "display_name": ".venv",
   "language": "python",
   "name": "python3"
  },
  "language_info": {
   "codemirror_mode": {
    "name": "ipython",
    "version": 3
   },
   "file_extension": ".py",
   "mimetype": "text/x-python",
   "name": "python",
   "nbconvert_exporter": "python",
   "pygments_lexer": "ipython3",
   "version": "3.10.13"
  }
 },
 "nbformat": 4,
 "nbformat_minor": 2
}
