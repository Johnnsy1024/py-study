{
 "cells": [
  {
   "cell_type": "markdown",
   "metadata": {},
   "source": [
    "* 矩阵取反"
   ]
  },
  {
   "cell_type": "code",
   "execution_count": 1,
   "metadata": {},
   "outputs": [],
   "source": [
    "import numpy as np\n",
    "from scipy import linalg\n",
    "\n",
    "A = np.array([[1,3,5],[2,5,1],[2,3,8]])\n",
    "\n",
    "A_rev = linalg.inv(A)"
   ]
  },
  {
   "cell_type": "code",
   "execution_count": 3,
   "metadata": {},
   "outputs": [
    {
     "data": {
      "text/plain": [
       "array([[ 1.00000000e+00, -1.11022302e-16,  4.85722573e-17],\n",
       "       [ 3.05311332e-16,  1.00000000e+00,  7.63278329e-17],\n",
       "       [ 2.22044605e-16, -1.11022302e-16,  1.00000000e+00]])"
      ]
     },
     "execution_count": 3,
     "metadata": {},
     "output_type": "execute_result"
    }
   ],
   "source": [
    "np.matmul(A, A_rev)"
   ]
  },
  {
   "cell_type": "markdown",
   "metadata": {},
   "source": [
    "* 线性方程组求解 \n",
    "    $Ax=b$\n",
    "    $x=A^{-1}b$"
   ]
  },
  {
   "cell_type": "code",
   "execution_count": 4,
   "metadata": {},
   "outputs": [
    {
     "data": {
      "text/plain": [
       "array([[1, 2],\n",
       "       [3, 4]])"
      ]
     },
     "execution_count": 4,
     "metadata": {},
     "output_type": "execute_result"
    }
   ],
   "source": [
    "A = np.array([[1, 2], [3, 4]])\n",
    "A"
   ]
  },
  {
   "cell_type": "code",
   "execution_count": 5,
   "metadata": {},
   "outputs": [
    {
     "data": {
      "text/plain": [
       "array([[5],\n",
       "       [6]])"
      ]
     },
     "execution_count": 5,
     "metadata": {},
     "output_type": "execute_result"
    }
   ],
   "source": [
    "b = np.array([[5], [6]])\n",
    "b"
   ]
  },
  {
   "cell_type": "code",
   "execution_count": 7,
   "metadata": {},
   "outputs": [
    {
     "data": {
      "text/plain": [
       "array([[-4. ],\n",
       "       [ 4.5]])"
      ]
     },
     "execution_count": 7,
     "metadata": {},
     "output_type": "execute_result"
    }
   ],
   "source": [
    "res = linalg.inv(A).dot(b)\n",
    "res"
   ]
  },
  {
   "cell_type": "code",
   "execution_count": 9,
   "metadata": {},
   "outputs": [
    {
     "data": {
      "text/plain": [
       "array([[0.00000000e+00],\n",
       "       [1.77635684e-15]])"
      ]
     },
     "execution_count": 9,
     "metadata": {},
     "output_type": "execute_result"
    }
   ],
   "source": [
    "# 检查\n",
    "A.dot(res) - b"
   ]
  },
  {
   "cell_type": "markdown",
   "metadata": {},
   "source": [
    "* 求方阵的行列式"
   ]
  },
  {
   "cell_type": "code",
   "execution_count": 10,
   "metadata": {},
   "outputs": [
    {
     "data": {
      "text/plain": [
       "-2.0"
      ]
     },
     "execution_count": 10,
     "metadata": {},
     "output_type": "execute_result"
    }
   ],
   "source": [
    "linalg.det(A)"
   ]
  },
  {
   "cell_type": "markdown",
   "metadata": {},
   "source": [
    "* 最小二乘法"
   ]
  },
  {
   "cell_type": "code",
   "execution_count": 1,
   "metadata": {},
   "outputs": [],
   "source": [
    "import numpy as np\n",
    "from scipy import linalg\n",
    "import matplotlib.pyplot as plt\n",
    "rng = np.random.default_rng()"
   ]
  },
  {
   "cell_type": "code",
   "execution_count": 38,
   "metadata": {},
   "outputs": [
    {
     "data": {
      "text/plain": [
       "array([4.93431628, 4.87826146, 4.54433556, 4.08834074, 3.87859501,\n",
       "       4.01235248, 3.60025878, 3.98542933, 3.6829268 , 3.78219047])"
      ]
     },
     "execution_count": 38,
     "metadata": {},
     "output_type": "execute_result"
    }
   ],
   "source": [
    "c1, c2 = 5.0, 2.0\n",
    "i = np.r_[1:11]\n",
    "xi = 0.1*i\n",
    "yi = c1*np.exp(-xi) + c2*xi\n",
    "zi = yi + 0.05 * np.max(yi) * rng.standard_normal(len(yi))\n",
    "zi"
   ]
  },
  {
   "cell_type": "code",
   "execution_count": 39,
   "metadata": {},
   "outputs": [
    {
     "data": {
      "text/plain": [
       "array([[0.90483742],\n",
       "       [0.81873075],\n",
       "       [0.74081822],\n",
       "       [0.67032005],\n",
       "       [0.60653066],\n",
       "       [0.54881164],\n",
       "       [0.4965853 ],\n",
       "       [0.44932896],\n",
       "       [0.40656966],\n",
       "       [0.36787944]])"
      ]
     },
     "execution_count": 39,
     "metadata": {},
     "output_type": "execute_result"
    }
   ],
   "source": [
    "np.exp(-xi)[:, np.newaxis]"
   ]
  },
  {
   "cell_type": "code",
   "execution_count": 36,
   "metadata": {},
   "outputs": [
    {
     "data": {
      "text/plain": [
       "array([[0.90483742, 0.1       ],\n",
       "       [0.81873075, 0.2       ],\n",
       "       [0.74081822, 0.3       ],\n",
       "       [0.67032005, 0.4       ],\n",
       "       [0.60653066, 0.5       ],\n",
       "       [0.54881164, 0.6       ],\n",
       "       [0.4965853 , 0.7       ],\n",
       "       [0.44932896, 0.8       ],\n",
       "       [0.40656966, 0.9       ],\n",
       "       [0.36787944, 1.        ]])"
      ]
     },
     "execution_count": 36,
     "metadata": {},
     "output_type": "execute_result"
    }
   ],
   "source": [
    "A = np.c_[np.exp(-xi)[:, np.newaxis], xi[:, np.newaxis]]\n",
    "A\n",
    "# c, resid, rank, sigma = linalg.lstsq(A, zi)"
   ]
  },
  {
   "cell_type": "code",
   "execution_count": 12,
   "metadata": {},
   "outputs": [],
   "source": [
    "xi2 = np.r_[0.1, 1.0, 100j]\n",
    "yi2 = c[0] * np.exp(-xi2) + c[1] * xi2"
   ]
  },
  {
   "cell_type": "code",
   "execution_count": 35,
   "metadata": {},
   "outputs": [
    {
     "data": {
      "text/plain": [
       "array([[3.12829394],\n",
       "       [3.15152587],\n",
       "       [3.17475543],\n",
       "       [3.19798025],\n",
       "       [3.22119796],\n",
       "       [3.24440618],\n",
       "       [3.26760256],\n",
       "       [3.29078473],\n",
       "       [3.31395032],\n",
       "       [3.33709697],\n",
       "       [3.36022231],\n",
       "       [3.38332399],\n",
       "       [3.40639965],\n",
       "       [3.42944693],\n",
       "       [3.45246349],\n",
       "       [3.47544697],\n",
       "       [3.49839503],\n",
       "       [3.52130533],\n",
       "       [3.54417554],\n",
       "       [3.56700331],\n",
       "       [3.58978631],\n",
       "       [3.61252224],\n",
       "       [3.63520875],\n",
       "       [3.65784355],\n",
       "       [3.68042432],\n",
       "       [3.70294875],\n",
       "       [3.72541455],\n",
       "       [3.74781943],\n",
       "       [3.7701611 ],\n",
       "       [3.79243728],\n",
       "       [3.81464569],\n",
       "       [3.83678408],\n",
       "       [3.85885018],\n",
       "       [3.88084175],\n",
       "       [3.90275653],\n",
       "       [3.92459229],\n",
       "       [3.94634681],\n",
       "       [3.96801786],\n",
       "       [3.98960323],\n",
       "       [4.01110073],\n",
       "       [4.03250815],\n",
       "       [4.05382332],\n",
       "       [4.07504405],\n",
       "       [4.09616819],\n",
       "       [4.11719358],\n",
       "       [4.13811807],\n",
       "       [4.15893953],\n",
       "       [4.17965583],\n",
       "       [4.20026486],\n",
       "       [4.22076452],\n",
       "       [4.24115272],\n",
       "       [4.26142737],\n",
       "       [4.28158641],\n",
       "       [4.30162777],\n",
       "       [4.32154943],\n",
       "       [4.34134933],\n",
       "       [4.36102547],\n",
       "       [4.38057583],\n",
       "       [4.39999843],\n",
       "       [4.41929127],\n",
       "       [4.43845239],\n",
       "       [4.45747984],\n",
       "       [4.47637167],\n",
       "       [4.49512596],\n",
       "       [4.51374079],\n",
       "       [4.53221426],\n",
       "       [4.55054449],\n",
       "       [4.56872961],\n",
       "       [4.58676777],\n",
       "       [4.60465711],\n",
       "       [4.62239583],\n",
       "       [4.6399821 ],\n",
       "       [4.65741413],\n",
       "       [4.67469015],\n",
       "       [4.69180839],\n",
       "       [4.70876711],\n",
       "       [4.72556457],\n",
       "       [4.74219906],\n",
       "       [4.75866889],\n",
       "       [4.77497237],\n",
       "       [4.79110784],\n",
       "       [4.80707365],\n",
       "       [4.82286818],\n",
       "       [4.83848981],\n",
       "       [4.85393695],\n",
       "       [4.86920803],\n",
       "       [4.88430148],\n",
       "       [4.89921576],\n",
       "       [4.91394936],\n",
       "       [4.92850077],\n",
       "       [4.94286851],\n",
       "       [4.9570511 ],\n",
       "       [4.97104711],\n",
       "       [4.98485511],\n",
       "       [4.99847367],\n",
       "       [5.01190143],\n",
       "       [5.025137  ],\n",
       "       [5.03817904],\n",
       "       [5.05102621],\n",
       "       [5.06367721]])"
      ]
     },
     "execution_count": 35,
     "metadata": {},
     "output_type": "execute_result"
    }
   ],
   "source": [
    "a, b = 2.3, 3\n",
    "x = np.r_[0:1:100j][:,None]\n",
    "y_hat = a * np.sin(x) + b + rng.normal(0, 0.2)\n",
    "y_hat"
   ]
  },
  {
   "cell_type": "code",
   "execution_count": 31,
   "metadata": {},
   "outputs": [],
   "source": [
    "y = np.sin(x)"
   ]
  },
  {
   "cell_type": "code",
   "execution_count": 33,
   "metadata": {},
   "outputs": [
    {
     "name": "stderr",
     "output_type": "stream",
     "text": [
      "/var/folders/w4/pmgcw1y90cx0ctn6y9nj94880000gn/T/ipykernel_22124/2661130378.py:1: FutureWarning: `rcond` parameter will change to the default of machine precision times ``max(M, N)`` where M and N are the input matrix dimensions.\n",
      "To use the future default and silence this warning we advise to pass `rcond=None`, to keep using the old, explicitly pass `rcond=-1`.\n",
      "  c, r, r, d = np.linalg.lstsq(y, y_hat)\n"
     ]
    }
   ],
   "source": [
    "c, r, r, d = np.linalg.lstsq(y, y_hat)"
   ]
  },
  {
   "cell_type": "code",
   "execution_count": 49,
   "metadata": {},
   "outputs": [],
   "source": [
    "def sigmoid(x, a, b):\n",
    "    return 1.0 / (1.0 + np.exp(-a * (x - b)))"
   ]
  },
  {
   "cell_type": "code",
   "execution_count": 45,
   "metadata": {},
   "outputs": [],
   "source": [
    "x = np.r_[0: 10: 100j]\n",
    "y = sigmoid(x)\n",
    "z = "
   ]
  },
  {
   "cell_type": "code",
   "execution_count": 46,
   "metadata": {},
   "outputs": [
    {
     "data": {
      "text/plain": [
       "[<matplotlib.lines.Line2D at 0x127e068f0>]"
      ]
     },
     "execution_count": 46,
     "metadata": {},
     "output_type": "execute_result"
    },
    {
     "data": {
      "image/png": "[encoded data removed]",
      "text/plain": [
       "<Figure size 640x480 with 1 Axes>"
      ]
     },
     "metadata": {},
     "output_type": "display_data"
    }
   ],
   "source": [
    "plt.plot(x, y)"
   ]
  },
  {
   "cell_type": "code",
   "execution_count": null,
   "metadata": {},
   "outputs": [],
   "source": [
    "np.linalg.lstsq()"
   ]
  },
  {
   "cell_type": "markdown",
   "metadata": {},
   "source": []
  }
 ],
 "metadata": {
  "kernelspec": {
   "display_name": ".venv",
   "language": "python",
   "name": "python3"
  },
  "language_info": {
   "codemirror_mode": {
    "name": "ipython",
    "version": 3
   },
   "file_extension": ".py",
   "mimetype": "text/x-python",
   "name": "python",
   "nbconvert_exporter": "python",
   "pygments_lexer": "ipython3",
   "version": "3.10.13"
  }
 },
 "nbformat": 4,
 "nbformat_minor": 2
}
